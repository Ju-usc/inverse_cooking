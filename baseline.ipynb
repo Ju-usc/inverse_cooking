{
 "cells": [
  {
   "cell_type": "code",
   "execution_count": 1,
   "metadata": {},
   "outputs": [],
   "source": [
    "prompt = \"\"\"Look at this food image and provide a recipe in XML format.\n",
    "    Use the following structure:\n",
    "    <recipe>\n",
    "      <title>The dish name</title>\n",
    "      <ingredients>\n",
    "        <ingredient>1 cup whole milk</ingredient>\n",
    "        <ingredient>2 tbsp sugar</ingredient>\n",
    "        <!-- Add all ingredients in this format -->\n",
    "      </ingredients>\n",
    "      <instructions>\n",
    "        <step>1. Preheat the oven to 350°F.</step>\n",
    "        <step>2. Mix all ingredients in a bowl.</step>\n",
    "        <!-- Add all steps in this format -->\n",
    "      </instructions>\n",
    "    </recipe>\n",
    "    \n",
    "    Important: \n",
    "    1. Make sure to format your response as valid XML following the exact structure above.\n",
    "    2. For each ingredient, include quantity, unit, and name in the <ingredient> tag.\n",
    "    3. For each instruction, include the step number and description in the <step> tag.\n",
    "    4. Do not use commas to separate ingredients - use individual <ingredient> tags.\n",
    "    5. Do not use newlines or commas inside the instruction text.\n",
    "    \"\"\""
   ]
  },
  {
   "cell_type": "code",
   "execution_count": 2,
   "metadata": {},
   "outputs": [
    {
     "name": "stdout",
     "output_type": "stream",
     "text": [
      "Requirement already satisfied: pandas in ./.conda/lib/python3.11/site-packages (2.2.3)\n",
      "Requirement already satisfied: datasets in ./.conda/lib/python3.11/site-packages (3.5.0)\n",
      "Requirement already satisfied: numpy>=1.23.2 in ./.conda/lib/python3.11/site-packages (from pandas) (2.2.4)\n",
      "Requirement already satisfied: python-dateutil>=2.8.2 in ./.conda/lib/python3.11/site-packages (from pandas) (2.9.0.post0)\n",
      "Requirement already satisfied: pytz>=2020.1 in ./.conda/lib/python3.11/site-packages (from pandas) (2025.2)\n",
      "Requirement already satisfied: tzdata>=2022.7 in ./.conda/lib/python3.11/site-packages (from pandas) (2025.2)\n",
      "Requirement already satisfied: filelock in ./.conda/lib/python3.11/site-packages (from datasets) (3.18.0)\n",
      "Requirement already satisfied: pyarrow>=15.0.0 in ./.conda/lib/python3.11/site-packages (from datasets) (19.0.1)\n",
      "Requirement already satisfied: dill<0.3.9,>=0.3.0 in ./.conda/lib/python3.11/site-packages (from datasets) (0.3.8)\n",
      "Requirement already satisfied: requests>=2.32.2 in ./.conda/lib/python3.11/site-packages (from datasets) (2.32.3)\n",
      "Requirement already satisfied: tqdm>=4.66.3 in ./.conda/lib/python3.11/site-packages (from datasets) (4.67.1)\n",
      "Requirement already satisfied: xxhash in ./.conda/lib/python3.11/site-packages (from datasets) (3.5.0)\n",
      "Requirement already satisfied: multiprocess<0.70.17 in ./.conda/lib/python3.11/site-packages (from datasets) (0.70.16)\n",
      "Requirement already satisfied: fsspec<=2024.12.0,>=2023.1.0 in ./.conda/lib/python3.11/site-packages (from fsspec[http]<=2024.12.0,>=2023.1.0->datasets) (2024.12.0)\n",
      "Requirement already satisfied: aiohttp in ./.conda/lib/python3.11/site-packages (from datasets) (3.11.16)\n",
      "Requirement already satisfied: huggingface-hub>=0.24.0 in ./.conda/lib/python3.11/site-packages (from datasets) (0.30.1)\n",
      "Requirement already satisfied: packaging in ./.conda/lib/python3.11/site-packages (from datasets) (24.2)\n",
      "Requirement already satisfied: pyyaml>=5.1 in ./.conda/lib/python3.11/site-packages (from datasets) (6.0.2)\n",
      "Requirement already satisfied: aiohappyeyeballs>=2.3.0 in ./.conda/lib/python3.11/site-packages (from aiohttp->datasets) (2.6.1)\n",
      "Requirement already satisfied: aiosignal>=1.1.2 in ./.conda/lib/python3.11/site-packages (from aiohttp->datasets) (1.3.2)\n",
      "Requirement already satisfied: attrs>=17.3.0 in ./.conda/lib/python3.11/site-packages (from aiohttp->datasets) (25.3.0)\n",
      "Requirement already satisfied: frozenlist>=1.1.1 in ./.conda/lib/python3.11/site-packages (from aiohttp->datasets) (1.5.0)\n",
      "Requirement already satisfied: multidict<7.0,>=4.5 in ./.conda/lib/python3.11/site-packages (from aiohttp->datasets) (6.3.2)\n",
      "Requirement already satisfied: propcache>=0.2.0 in ./.conda/lib/python3.11/site-packages (from aiohttp->datasets) (0.3.1)\n",
      "Requirement already satisfied: yarl<2.0,>=1.17.0 in ./.conda/lib/python3.11/site-packages (from aiohttp->datasets) (1.18.3)\n",
      "Requirement already satisfied: typing-extensions>=3.7.4.3 in ./.conda/lib/python3.11/site-packages (from huggingface-hub>=0.24.0->datasets) (4.13.1)\n",
      "Requirement already satisfied: six>=1.5 in ./.conda/lib/python3.11/site-packages (from python-dateutil>=2.8.2->pandas) (1.17.0)\n",
      "Requirement already satisfied: charset-normalizer<4,>=2 in ./.conda/lib/python3.11/site-packages (from requests>=2.32.2->datasets) (3.4.1)\n",
      "Requirement already satisfied: idna<4,>=2.5 in ./.conda/lib/python3.11/site-packages (from requests>=2.32.2->datasets) (3.10)\n",
      "Requirement already satisfied: urllib3<3,>=1.21.1 in ./.conda/lib/python3.11/site-packages (from requests>=2.32.2->datasets) (2.3.0)\n",
      "Requirement already satisfied: certifi>=2017.4.17 in ./.conda/lib/python3.11/site-packages (from requests>=2.32.2->datasets) (2025.1.31)\n",
      "Note: you may need to restart the kernel to use updated packages.\n"
     ]
    }
   ],
   "source": [
    "%pip install pandas datasets"
   ]
  },
  {
   "cell_type": "code",
   "execution_count": 3,
   "metadata": {},
   "outputs": [
    {
     "name": "stdout",
     "output_type": "stream",
     "text": [
      "Requirement already satisfied: fuzzywuzzy in ./.conda/lib/python3.11/site-packages (0.18.0)\n",
      "Requirement already satisfied: python-Levenshtein in ./.conda/lib/python3.11/site-packages (0.27.1)\n",
      "Requirement already satisfied: Levenshtein==0.27.1 in ./.conda/lib/python3.11/site-packages (from python-Levenshtein) (0.27.1)\n",
      "Requirement already satisfied: rapidfuzz<4.0.0,>=3.9.0 in ./.conda/lib/python3.11/site-packages (from Levenshtein==0.27.1->python-Levenshtein) (3.13.0)\n",
      "Note: you may need to restart the kernel to use updated packages.\n"
     ]
    }
   ],
   "source": [
    "%pip install fuzzywuzzy python-Levenshtein"
   ]
  },
  {
   "cell_type": "code",
   "execution_count": 4,
   "metadata": {},
   "outputs": [
    {
     "name": "stderr",
     "output_type": "stream",
     "text": [
      "/Users/juyounglee/Desktop/School/2025Spring/csci467/inverse_cooking/.conda/lib/python3.11/site-packages/tqdm/auto.py:21: TqdmWarning: IProgress not found. Please update jupyter and ipywidgets. See https://ipywidgets.readthedocs.io/en/stable/user_install.html\n",
      "  from .autonotebook import tqdm as notebook_tqdm\n"
     ]
    },
    {
     "name": "stdout",
     "output_type": "stream",
     "text": [
      "Loading CSV from: inverse_cooking_dataset/Food Ingredients and Recipe Dataset with Image Name Mapping.csv\n",
      "Adding image paths from: inverse_cooking_dataset/Food Images/Food Images\n",
      "First few image paths: ['inverse_cooking_dataset/Food Images/Food Images/miso-butter-roast-chicken-acorn-squash-panzanella.jpg', 'inverse_cooking_dataset/Food Images/Food Images/crispy-salt-and-pepper-potatoes-dan-kluger.jpg']\n",
      "Dataset created with 13501 examples\n",
      "Sample data: {'Unnamed: 0': 0, 'Title': 'Miso-Butter Roast Chicken With Acorn Squash Panzanella', 'Ingredients': '[\\'1 (3½–4-lb.) whole chicken\\', \\'2¾ tsp. kosher salt, divided, plus more\\', \\'2 small acorn squash (about 3 lb. total)\\', \\'2 Tbsp. finely chopped sage\\', \\'1 Tbsp. finely chopped rosemary\\', \\'6 Tbsp. unsalted butter, melted, plus 3 Tbsp. room temperature\\', \\'¼ tsp. ground allspice\\', \\'Pinch of crushed red pepper flakes\\', \\'Freshly ground black pepper\\', \\'⅓ loaf good-quality sturdy white bread, torn into 1\" pieces (about 2½ cups)\\', \\'2 medium apples (such as Gala or Pink Lady; about 14 oz. total), cored, cut into 1\" pieces\\', \\'2 Tbsp. extra-virgin olive oil\\', \\'½ small red onion, thinly sliced\\', \\'3 Tbsp. apple cider vinegar\\', \\'1 Tbsp. white miso\\', \\'¼ cup all-purpose flour\\', \\'2 Tbsp. unsalted butter, room temperature\\', \\'¼ cup dry white wine\\', \\'2 cups unsalted chicken broth\\', \\'2 tsp. white miso\\', \\'Kosher salt, freshly ground pepper\\']', 'Instructions': 'Pat chicken dry with paper towels, season all over with 2 tsp. salt, and tie legs together with kitchen twine. Let sit at room temperature 1 hour.\\nMeanwhile, halve squash and scoop out seeds. Run a vegetable peeler along ridges of squash halves to remove skin. Cut each half into ½\"-thick wedges; arrange on a rimmed baking sheet.\\nCombine sage, rosemary, and 6 Tbsp. melted butter in a large bowl; pour half of mixture over squash on baking sheet. Sprinkle squash with allspice, red pepper flakes, and ½ tsp. salt and season with black pepper; toss to coat.\\nAdd bread, apples, oil, and ¼ tsp. salt to remaining herb butter in bowl; season with black pepper and toss to combine. Set aside.\\nPlace onion and vinegar in a small bowl; season with salt and toss to coat. Let sit, tossing occasionally, until ready to serve.\\nPlace a rack in middle and lower third of oven; preheat to 425°F. Mix miso and 3 Tbsp. room-temperature butter in a small bowl until smooth. Pat chicken dry with paper towels, then rub or brush all over with miso butter. Place chicken in a large cast-iron skillet and roast on middle rack until an instant-read thermometer inserted into the thickest part of breast registers 155°F, 50–60 minutes. (Temperature will climb to 165°F while chicken rests.) Let chicken rest in skillet at least 5 minutes, then transfer to a plate; reserve skillet.\\nMeanwhile, roast squash on lower rack until mostly tender, about 25 minutes. Remove from oven and scatter reserved bread mixture over, spreading into as even a layer as you can manage. Return to oven and roast until bread is golden brown and crisp and apples are tender, about 15 minutes. Remove from oven, drain pickled onions, and toss to combine. Transfer to a serving dish.\\nUsing your fingers, mash flour and butter in a small bowl to combine.\\nSet reserved skillet with chicken drippings over medium heat. You should have about ¼ cup, but a little over or under is all good. (If you have significantly more, drain off and set excess aside.) Add wine and cook, stirring often and scraping up any browned bits with a wooden spoon, until bits are loosened and wine is reduced by about half (you should be able to smell the wine), about 2 minutes. Add butter mixture; cook, stirring often, until a smooth paste forms, about 2 minutes. Add broth and any reserved drippings and cook, stirring constantly, until combined and thickened, 6–8 minutes. Remove from heat and stir in miso. Taste and season with salt and black pepper.\\nServe chicken with gravy and squash panzanella alongside.', 'Image_Name': 'miso-butter-roast-chicken-acorn-squash-panzanella', 'Cleaned_Ingredients': '[\\'1 (3½–4-lb.) whole chicken\\', \\'2¾ tsp. kosher salt, divided, plus more\\', \\'2 small acorn squash (about 3 lb. total)\\', \\'2 Tbsp. finely chopped sage\\', \\'1 Tbsp. finely chopped rosemary\\', \\'6 Tbsp. unsalted butter, melted, plus 3 Tbsp. room temperature\\', \\'¼ tsp. ground allspice\\', \\'Pinch of crushed red pepper flakes\\', \\'Freshly ground black pepper\\', \\'⅓ loaf good-quality sturdy white bread, torn into 1\" pieces (about 2½ cups)\\', \\'2 medium apples (such as Gala or Pink Lady; about 14 oz. total), cored, cut into 1\" pieces\\', \\'2 Tbsp. extra-virgin olive oil\\', \\'½ small red onion, thinly sliced\\', \\'3 Tbsp. apple cider vinegar\\', \\'1 Tbsp. white miso\\', \\'¼ cup all-purpose flour\\', \\'2 Tbsp. unsalted butter, room temperature\\', \\'¼ cup dry white wine\\', \\'2 cups unsalted chicken broth\\', \\'2 tsp. white miso\\', \\'Kosher salt\\', \\'freshly ground pepper\\']', 'full_image_path': 'inverse_cooking_dataset/Food Images/Food Images/miso-butter-roast-chicken-acorn-squash-panzanella.jpg'}\n"
     ]
    }
   ],
   "source": [
    "import pandas as pd\n",
    "from datasets import Dataset\n",
    "import os\n",
    "\n",
    "\n",
    "# File paths\n",
    "csv_file_path = \"inverse_cooking_dataset/Food Ingredients and Recipe Dataset with Image Name Mapping.csv\"\n",
    "image_dir_path = \"inverse_cooking_dataset/Food Images/Food Images\"\n",
    "\n",
    "# Load the CSV file directly\n",
    "print(f\"Loading CSV from: {csv_file_path}\")\n",
    "df = pd.read_csv(csv_file_path)\n",
    "\n",
    "# Add the full image paths\n",
    "if 'Image_Name' in df.columns:\n",
    "    print(f\"Adding image paths from: {image_dir_path}\")\n",
    "    df['full_image_path'] = df['Image_Name'].apply(lambda x: os.path.join(image_dir_path, f\"{x}.jpg\"))\n",
    "    \n",
    "    # Verify a few paths (optional)\n",
    "    print(f\"First few image paths: {df['full_image_path'].head(2).tolist()}\")\n",
    "\n",
    "# Convert to Hugging Face Dataset\n",
    "hf_dataset = Dataset.from_pandas(df)\n",
    "print(f\"Dataset created with {len(hf_dataset)} examples\")\n",
    "print(f\"Sample data: {hf_dataset[0]}\")"
   ]
  },
  {
   "cell_type": "code",
   "execution_count": 5,
   "metadata": {},
   "outputs": [
    {
     "name": "stdout",
     "output_type": "stream",
     "text": [
      "Preprocessing dataset with 13501 examples...\n"
     ]
    },
    {
     "name": "stderr",
     "output_type": "stream",
     "text": [
      "Map:  28%|██▊       | 3778/13501 [00:01<00:02, 3339.77 examples/s]"
     ]
    },
    {
     "name": "stdout",
     "output_type": "stream",
     "text": [
      "Warning: Image not found at inverse_cooking_dataset/Food Images/Food Images/#NAME?.jpg\n",
      "Warning: Image not found at inverse_cooking_dataset/Food Images/Food Images/#NAME?.jpg\n",
      "Warning: Image not found at inverse_cooking_dataset/Food Images/Food Images/#NAME?.jpg\n",
      "Warning: Image not found at inverse_cooking_dataset/Food Images/Food Images/#NAME?.jpg\n",
      "Warning: Image not found at inverse_cooking_dataset/Food Images/Food Images/#NAME?.jpg\n",
      "Warning: Image not found at inverse_cooking_dataset/Food Images/Food Images/#NAME?.jpg\n",
      "Warning: Image not found at inverse_cooking_dataset/Food Images/Food Images/#NAME?.jpg\n"
     ]
    },
    {
     "name": "stderr",
     "output_type": "stream",
     "text": [
      "Map:  35%|███▍      | 4686/13501 [00:01<00:02, 3516.27 examples/s]"
     ]
    },
    {
     "name": "stdout",
     "output_type": "stream",
     "text": [
      "Warning: Image not found at inverse_cooking_dataset/Food Images/Food Images/#NAME?.jpg\n",
      "Warning: Image not found at inverse_cooking_dataset/Food Images/Food Images/#NAME?.jpg\n",
      "Warning: Image not found at inverse_cooking_dataset/Food Images/Food Images/#NAME?.jpg\n",
      "Warning: Image not found at inverse_cooking_dataset/Food Images/Food Images/#NAME?.jpg\n",
      "Warning: Image not found at inverse_cooking_dataset/Food Images/Food Images/#NAME?.jpg\n",
      "Warning: Image not found at inverse_cooking_dataset/Food Images/Food Images/#NAME?.jpg\n",
      "Warning: Image not found at inverse_cooking_dataset/Food Images/Food Images/#NAME?.jpg\n",
      "Warning: Image not found at inverse_cooking_dataset/Food Images/Food Images/#NAME?.jpg\n",
      "Warning: Image not found at inverse_cooking_dataset/Food Images/Food Images/#NAME?.jpg\n",
      "Warning: Image not found at inverse_cooking_dataset/Food Images/Food Images/#NAME?.jpg\n",
      "Warning: Image not found at inverse_cooking_dataset/Food Images/Food Images/#NAME?.jpg\n"
     ]
    },
    {
     "name": "stderr",
     "output_type": "stream",
     "text": [
      "Map:  44%|████▍     | 5914/13501 [00:02<00:03, 2165.99 examples/s]"
     ]
    },
    {
     "name": "stdout",
     "output_type": "stream",
     "text": [
      "Warning: Image not found at inverse_cooking_dataset/Food Images/Food Images/#NAME?.jpg\n",
      "Warning: Image not found at inverse_cooking_dataset/Food Images/Food Images/#NAME?.jpg\n"
     ]
    },
    {
     "name": "stderr",
     "output_type": "stream",
     "text": [
      "Map:  53%|█████▎    | 7193/13501 [00:02<00:02, 2496.33 examples/s]"
     ]
    },
    {
     "name": "stdout",
     "output_type": "stream",
     "text": [
      "Warning: Image not found at inverse_cooking_dataset/Food Images/Food Images/#NAME?.jpg\n",
      "Warning: Image not found at inverse_cooking_dataset/Food Images/Food Images/#NAME?.jpg\n"
     ]
    },
    {
     "name": "stderr",
     "output_type": "stream",
     "text": [
      "Map:  62%|██████▏   | 8427/13501 [00:03<00:01, 3125.34 examples/s]"
     ]
    },
    {
     "name": "stdout",
     "output_type": "stream",
     "text": [
      "Warning: Image not found at inverse_cooking_dataset/Food Images/Food Images/#NAME?.jpg\n",
      "Warning: Image not found at inverse_cooking_dataset/Food Images/Food Images/#NAME?.jpg\n",
      "Warning: Image not found at inverse_cooking_dataset/Food Images/Food Images/#NAME?.jpg\n",
      "Warning: Image not found at inverse_cooking_dataset/Food Images/Food Images/#NAME?.jpg\n"
     ]
    },
    {
     "name": "stderr",
     "output_type": "stream",
     "text": [
      "Map:  71%|███████▏  | 9628/13501 [00:03<00:01, 3535.94 examples/s]"
     ]
    },
    {
     "name": "stdout",
     "output_type": "stream",
     "text": [
      "Warning: Image not found at inverse_cooking_dataset/Food Images/Food Images/#NAME?.jpg\n"
     ]
    },
    {
     "name": "stderr",
     "output_type": "stream",
     "text": [
      "Map:  77%|███████▋  | 10384/13501 [00:03<00:00, 3540.45 examples/s]"
     ]
    },
    {
     "name": "stdout",
     "output_type": "stream",
     "text": [
      "Warning: Image not found at inverse_cooking_dataset/Food Images/Food Images/#NAME?.jpg\n"
     ]
    },
    {
     "name": "stderr",
     "output_type": "stream",
     "text": [
      "Map:  89%|████████▉ | 12000/13501 [00:04<00:00, 3399.55 examples/s]"
     ]
    },
    {
     "name": "stdout",
     "output_type": "stream",
     "text": [
      "Warning: Image not found at inverse_cooking_dataset/Food Images/Food Images/#NAME?.jpg\n",
      "Warning: Image not found at inverse_cooking_dataset/Food Images/Food Images/#NAME?.jpg\n"
     ]
    },
    {
     "name": "stderr",
     "output_type": "stream",
     "text": [
      "Map: 100%|██████████| 13501/13501 [00:04<00:00, 2961.48 examples/s]\n",
      "Filter: 100%|██████████| 13501/13501 [00:00<00:00, 32493.22 examples/s]"
     ]
    },
    {
     "name": "stdout",
     "output_type": "stream",
     "text": [
      "Preprocessing complete. 13471 examples with valid images (filtered out 30 examples)\n"
     ]
    },
    {
     "name": "stderr",
     "output_type": "stream",
     "text": [
      "\n"
     ]
    }
   ],
   "source": [
    "from utils import preprocess_dataset\n",
    "\n",
    "preprocessed_dataset = preprocess_dataset(hf_dataset)"
   ]
  },
  {
   "cell_type": "code",
   "execution_count": 6,
   "metadata": {},
   "outputs": [
    {
     "data": {
      "text/plain": [
       "{'Unnamed: 0': Value(dtype='int64', id=None),\n",
       " 'Title': Value(dtype='string', id=None),\n",
       " 'Ingredients': Value(dtype='string', id=None),\n",
       " 'Instructions': Value(dtype='string', id=None),\n",
       " 'Image_Name': Value(dtype='string', id=None),\n",
       " 'Cleaned_Ingredients': Value(dtype='string', id=None),\n",
       " 'full_image_path': Value(dtype='string', id=None),\n",
       " 'parsed_ingredients': Sequence(feature=Value(dtype='string', id=None), length=-1, id=None),\n",
       " 'parsed_cleaned_ingredients': Sequence(feature=Value(dtype='string', id=None), length=-1, id=None),\n",
       " 'instruction_steps': Sequence(feature=Value(dtype='string', id=None), length=-1, id=None),\n",
       " 'base64_image': Value(dtype='string', id=None)}"
      ]
     },
     "execution_count": 6,
     "metadata": {},
     "output_type": "execute_result"
    }
   ],
   "source": [
    "preprocessed_dataset.features\n"
   ]
  },
  {
   "cell_type": "code",
   "execution_count": 7,
   "metadata": {},
   "outputs": [
    {
     "data": {
      "text/html": [
       "<div>\n",
       "<style scoped>\n",
       "    .dataframe tbody tr th:only-of-type {\n",
       "        vertical-align: middle;\n",
       "    }\n",
       "\n",
       "    .dataframe tbody tr th {\n",
       "        vertical-align: top;\n",
       "    }\n",
       "\n",
       "    .dataframe thead th {\n",
       "        text-align: right;\n",
       "    }\n",
       "</style>\n",
       "<table border=\"1\" class=\"dataframe\">\n",
       "  <thead>\n",
       "    <tr style=\"text-align: right;\">\n",
       "      <th></th>\n",
       "      <th>Unnamed: 0</th>\n",
       "      <th>Title</th>\n",
       "      <th>Ingredients</th>\n",
       "      <th>Instructions</th>\n",
       "      <th>Image_Name</th>\n",
       "      <th>Cleaned_Ingredients</th>\n",
       "      <th>full_image_path</th>\n",
       "      <th>parsed_ingredients</th>\n",
       "      <th>parsed_cleaned_ingredients</th>\n",
       "      <th>instruction_steps</th>\n",
       "      <th>base64_image</th>\n",
       "    </tr>\n",
       "  </thead>\n",
       "  <tbody>\n",
       "    <tr>\n",
       "      <th>0</th>\n",
       "      <td>0</td>\n",
       "      <td>Miso-Butter Roast Chicken With Acorn Squash Pa...</td>\n",
       "      <td>['1 (3½–4-lb.) whole chicken', '2¾ tsp. kosher...</td>\n",
       "      <td>Pat chicken dry with paper towels, season all ...</td>\n",
       "      <td>miso-butter-roast-chicken-acorn-squash-panzanella</td>\n",
       "      <td>['1 (3½–4-lb.) whole chicken', '2¾ tsp. kosher...</td>\n",
       "      <td>inverse_cooking_dataset/Food Images/Food Image...</td>\n",
       "      <td>[1 (3½–4-lb.) whole chicken, 2¾ tsp. kosher sa...</td>\n",
       "      <td>[1 (3½–4-lb.) whole chicken, 2¾ tsp. kosher sa...</td>\n",
       "      <td>[Pat chicken dry with paper towels, season all...</td>\n",
       "      <td>/9j/4AAQSkZJRgABAQAAAQABAAD/4gIcSUNDX1BST0ZJTE...</td>\n",
       "    </tr>\n",
       "    <tr>\n",
       "      <th>1</th>\n",
       "      <td>1</td>\n",
       "      <td>Crispy Salt and Pepper Potatoes</td>\n",
       "      <td>['2 large egg whites', '1 pound new potatoes (...</td>\n",
       "      <td>Preheat oven to 400°F and line a rimmed baking...</td>\n",
       "      <td>crispy-salt-and-pepper-potatoes-dan-kluger</td>\n",
       "      <td>['2 large egg whites', '1 pound new potatoes (...</td>\n",
       "      <td>inverse_cooking_dataset/Food Images/Food Image...</td>\n",
       "      <td>[2 large egg whites, 1 pound new potatoes (abo...</td>\n",
       "      <td>[2 large egg whites, 1 pound new potatoes (abo...</td>\n",
       "      <td>[Preheat oven to 400°F and line a rimmed bakin...</td>\n",
       "      <td>/9j/4AAQSkZJRgABAQAAAQABAAD/4gIcSUNDX1BST0ZJTE...</td>\n",
       "    </tr>\n",
       "    <tr>\n",
       "      <th>2</th>\n",
       "      <td>2</td>\n",
       "      <td>Thanksgiving Mac and Cheese</td>\n",
       "      <td>['1 cup evaporated milk', '1 cup whole milk', ...</td>\n",
       "      <td>Place a rack in middle of oven; preheat to 400...</td>\n",
       "      <td>thanksgiving-mac-and-cheese-erick-williams</td>\n",
       "      <td>['1 cup evaporated milk', '1 cup whole milk', ...</td>\n",
       "      <td>inverse_cooking_dataset/Food Images/Food Image...</td>\n",
       "      <td>[1 cup evaporated milk, 1 cup whole milk, 1 ts...</td>\n",
       "      <td>[1 cup evaporated milk, 1 cup whole milk, 1 ts...</td>\n",
       "      <td>[Place a rack in middle of oven; preheat to 40...</td>\n",
       "      <td>/9j/4AAQSkZJRgABAQAAAQABAAD/4gIcSUNDX1BST0ZJTE...</td>\n",
       "    </tr>\n",
       "    <tr>\n",
       "      <th>3</th>\n",
       "      <td>3</td>\n",
       "      <td>Italian Sausage and Bread Stuffing</td>\n",
       "      <td>['1 (¾- to 1-pound) round Italian loaf, cut in...</td>\n",
       "      <td>Preheat oven to 350°F with rack in middle. Gen...</td>\n",
       "      <td>italian-sausage-and-bread-stuffing-240559</td>\n",
       "      <td>['1 (¾- to 1-pound) round Italian loaf, cut in...</td>\n",
       "      <td>inverse_cooking_dataset/Food Images/Food Image...</td>\n",
       "      <td>[1 (¾- to 1-pound) round Italian loaf, cut int...</td>\n",
       "      <td>[1 (¾- to 1-pound) round Italian loaf, cut int...</td>\n",
       "      <td>[Preheat oven to 350°F with rack in middle. Ge...</td>\n",
       "      <td>/9j/4AAQSkZJRgABAQAAAQABAAD/4gIcSUNDX1BST0ZJTE...</td>\n",
       "    </tr>\n",
       "    <tr>\n",
       "      <th>4</th>\n",
       "      <td>4</td>\n",
       "      <td>Newton's Law</td>\n",
       "      <td>['1 teaspoon dark brown sugar', '1 teaspoon ho...</td>\n",
       "      <td>Stir together brown sugar and hot water in a c...</td>\n",
       "      <td>newtons-law-apple-bourbon-cocktail</td>\n",
       "      <td>['1 teaspoon dark brown sugar', '1 teaspoon ho...</td>\n",
       "      <td>inverse_cooking_dataset/Food Images/Food Image...</td>\n",
       "      <td>[1 teaspoon dark brown sugar, 1 teaspoon hot w...</td>\n",
       "      <td>[1 teaspoon dark brown sugar, 1 teaspoon hot w...</td>\n",
       "      <td>[Stir together brown sugar and hot water in a ...</td>\n",
       "      <td>/9j/4AAQSkZJRgABAQAAAQABAAD/4gIcSUNDX1BST0ZJTE...</td>\n",
       "    </tr>\n",
       "  </tbody>\n",
       "</table>\n",
       "</div>"
      ],
      "text/plain": [
       "   Unnamed: 0                                              Title  \\\n",
       "0           0  Miso-Butter Roast Chicken With Acorn Squash Pa...   \n",
       "1           1                    Crispy Salt and Pepper Potatoes   \n",
       "2           2                        Thanksgiving Mac and Cheese   \n",
       "3           3                 Italian Sausage and Bread Stuffing   \n",
       "4           4                                       Newton's Law   \n",
       "\n",
       "                                         Ingredients  \\\n",
       "0  ['1 (3½–4-lb.) whole chicken', '2¾ tsp. kosher...   \n",
       "1  ['2 large egg whites', '1 pound new potatoes (...   \n",
       "2  ['1 cup evaporated milk', '1 cup whole milk', ...   \n",
       "3  ['1 (¾- to 1-pound) round Italian loaf, cut in...   \n",
       "4  ['1 teaspoon dark brown sugar', '1 teaspoon ho...   \n",
       "\n",
       "                                        Instructions  \\\n",
       "0  Pat chicken dry with paper towels, season all ...   \n",
       "1  Preheat oven to 400°F and line a rimmed baking...   \n",
       "2  Place a rack in middle of oven; preheat to 400...   \n",
       "3  Preheat oven to 350°F with rack in middle. Gen...   \n",
       "4  Stir together brown sugar and hot water in a c...   \n",
       "\n",
       "                                          Image_Name  \\\n",
       "0  miso-butter-roast-chicken-acorn-squash-panzanella   \n",
       "1         crispy-salt-and-pepper-potatoes-dan-kluger   \n",
       "2         thanksgiving-mac-and-cheese-erick-williams   \n",
       "3          italian-sausage-and-bread-stuffing-240559   \n",
       "4                 newtons-law-apple-bourbon-cocktail   \n",
       "\n",
       "                                 Cleaned_Ingredients  \\\n",
       "0  ['1 (3½–4-lb.) whole chicken', '2¾ tsp. kosher...   \n",
       "1  ['2 large egg whites', '1 pound new potatoes (...   \n",
       "2  ['1 cup evaporated milk', '1 cup whole milk', ...   \n",
       "3  ['1 (¾- to 1-pound) round Italian loaf, cut in...   \n",
       "4  ['1 teaspoon dark brown sugar', '1 teaspoon ho...   \n",
       "\n",
       "                                     full_image_path  \\\n",
       "0  inverse_cooking_dataset/Food Images/Food Image...   \n",
       "1  inverse_cooking_dataset/Food Images/Food Image...   \n",
       "2  inverse_cooking_dataset/Food Images/Food Image...   \n",
       "3  inverse_cooking_dataset/Food Images/Food Image...   \n",
       "4  inverse_cooking_dataset/Food Images/Food Image...   \n",
       "\n",
       "                                  parsed_ingredients  \\\n",
       "0  [1 (3½–4-lb.) whole chicken, 2¾ tsp. kosher sa...   \n",
       "1  [2 large egg whites, 1 pound new potatoes (abo...   \n",
       "2  [1 cup evaporated milk, 1 cup whole milk, 1 ts...   \n",
       "3  [1 (¾- to 1-pound) round Italian loaf, cut int...   \n",
       "4  [1 teaspoon dark brown sugar, 1 teaspoon hot w...   \n",
       "\n",
       "                          parsed_cleaned_ingredients  \\\n",
       "0  [1 (3½–4-lb.) whole chicken, 2¾ tsp. kosher sa...   \n",
       "1  [2 large egg whites, 1 pound new potatoes (abo...   \n",
       "2  [1 cup evaporated milk, 1 cup whole milk, 1 ts...   \n",
       "3  [1 (¾- to 1-pound) round Italian loaf, cut int...   \n",
       "4  [1 teaspoon dark brown sugar, 1 teaspoon hot w...   \n",
       "\n",
       "                                   instruction_steps  \\\n",
       "0  [Pat chicken dry with paper towels, season all...   \n",
       "1  [Preheat oven to 400°F and line a rimmed bakin...   \n",
       "2  [Place a rack in middle of oven; preheat to 40...   \n",
       "3  [Preheat oven to 350°F with rack in middle. Ge...   \n",
       "4  [Stir together brown sugar and hot water in a ...   \n",
       "\n",
       "                                        base64_image  \n",
       "0  /9j/4AAQSkZJRgABAQAAAQABAAD/4gIcSUNDX1BST0ZJTE...  \n",
       "1  /9j/4AAQSkZJRgABAQAAAQABAAD/4gIcSUNDX1BST0ZJTE...  \n",
       "2  /9j/4AAQSkZJRgABAQAAAQABAAD/4gIcSUNDX1BST0ZJTE...  \n",
       "3  /9j/4AAQSkZJRgABAQAAAQABAAD/4gIcSUNDX1BST0ZJTE...  \n",
       "4  /9j/4AAQSkZJRgABAQAAAQABAAD/4gIcSUNDX1BST0ZJTE...  "
      ]
     },
     "execution_count": 7,
     "metadata": {},
     "output_type": "execute_result"
    }
   ],
   "source": [
    "preprocessed_dataset.to_pandas().head()"
   ]
  },
  {
   "cell_type": "code",
   "execution_count": 8,
   "metadata": {},
   "outputs": [],
   "source": [
    "test_dataset = preprocessed_dataset.select(range(3))"
   ]
  },
  {
   "cell_type": "code",
   "execution_count": 9,
   "metadata": {},
   "outputs": [],
   "source": [
    "# generate recipe for each example\n",
    "from utils import generate_response, parse_recipe_xml\n",
    "responses = []\n",
    "for example in test_dataset:\n",
    "    input_image = example['base64_image']\n",
    "    messages=[\n",
    "        {\n",
    "            \"role\": \"user\",\n",
    "            \"content\": [\n",
    "                {\"type\": \"text\", \"text\": prompt},\n",
    "                {\n",
    "                    \"type\": \"image_url\",\n",
    "                    \"image_url\": {\n",
    "                        \"url\": f\"data:image/jpeg;base64,{input_image}\",\n",
    "                    },\n",
    "                },\n",
    "            ],\n",
    "        }\n",
    "    ]\n",
    "    response = generate_response(messages)\n",
    "    responses.append(response)\n"
   ]
  },
  {
   "cell_type": "code",
   "execution_count": 10,
   "metadata": {},
   "outputs": [],
   "source": [
    "y_pred = []\n",
    "for response in responses:\n",
    "    parsed_recipe = parse_recipe_xml(response)\n",
    "    y_pred.append(parsed_recipe)"
   ]
  },
  {
   "cell_type": "code",
   "execution_count": 11,
   "metadata": {},
   "outputs": [
    {
     "data": {
      "text/plain": [
       "[{'title': 'Roasted Chicken with Fall Vegetables',\n",
       "  'ingredients': ['1 whole chicken (3-4 lbs)',\n",
       "   '2 tbsp olive oil',\n",
       "   '1 tsp salt',\n",
       "   '1 tsp pepper',\n",
       "   '1 tsp dried thyme',\n",
       "   '1 tsp dried rosemary',\n",
       "   '1 large onion, peeled and chopped',\n",
       "   '2 carrots, peeled and chopped',\n",
       "   '2 celery stalks, chopped',\n",
       "   '2 large sweet potatoes, peeled and chopped',\n",
       "   '2 large parsnips, peeled and chopped',\n",
       "   '1 large apple, cored and chopped',\n",
       "   '2 tbsp butter'],\n",
       "  'steps': ['1. Preheat the oven to 425°F.',\n",
       "   '2. Rinse the chicken and pat it dry with paper towels.',\n",
       "   '3. In a small bowl, mix together the olive oil, salt, pepper, thyme, and rosemary.',\n",
       "   '4. Rub the mixture all over the chicken, making sure to get some under the skin as well.',\n",
       "   '5. Place the chicken in a roasting pan and put it in the oven.',\n",
       "   '6. Roast the chicken for 45-50 minutes, or until it reaches an internal temperature of 165°F.',\n",
       "   '7. While the chicken is roasting, toss the chopped vegetables with the butter and spread them out in a single layer on a baking sheet.',\n",
       "   '8. Roast the vegetables in the oven for 20-25 minutes, or until they are tender and lightly browned.',\n",
       "   '9. Remove the chicken from the oven and let it rest for 10-15 minutes before carving.',\n",
       "   '10. Serve the chicken with the roasted vegetables and your choice of sides.']},\n",
       " {'title': 'Roasted Baby Potatoes with Garlic and Rosemary',\n",
       "  'ingredients': ['2 pounds small baby potatoes, halved or quartered',\n",
       "   '1/4 cup olive oil',\n",
       "   '2 cloves garlic, minced',\n",
       "   '2 sprigs fresh rosemary, chopped',\n",
       "   '1 teaspoon salt',\n",
       "   '1/2 teaspoon black pepper'],\n",
       "  'steps': ['1. Preheat the oven to 425°F (220°C).',\n",
       "   '2. Place the potatoes in a large bowl. Drizzle with the olive oil and sprinkle with the garlic, rosemary, salt, and pepper. Toss to coat the potatoes evenly.',\n",
       "   '3. Spread the potatoes out in a single layer on a baking sheet. Roast in the preheated oven for 20-25 minutes, or until the potatoes are golden brown and crispy on the outside, and tender on the inside.',\n",
       "   '4. Remove the potatoes from the oven and serve hot.']},\n",
       " {'title': 'Baked Macaroni and Cheese',\n",
       "  'ingredients': ['1 pound macaroni',\n",
       "   '2 tablespoons butter',\n",
       "   '1/2 cup all-purpose flour',\n",
       "   '2 cups milk',\n",
       "   '1 cup grated cheddar cheese',\n",
       "   '1/2 cup grated Parmesan cheese',\n",
       "   '1/4 cup breadcrumbs',\n",
       "   '1 teaspoon salt',\n",
       "   '1/4 teaspoon black pepper'],\n",
       "  'steps': ['1. Preheat the oven to 350°F.',\n",
       "   '2. Cook the macaroni according to package instructions until al dente. Drain and set aside.',\n",
       "   '3. In a large saucepan, melt the butter over medium heat.',\n",
       "   '4. Add the flour and whisk together to make a roux, cooking for 1 minute.',\n",
       "   '5. Slowly pour in the milk, whisking continuously to avoid lumps.',\n",
       "   '6. Bring the mixture to a simmer and cook until it thickens, stirring occasionally.',\n",
       "   '7. Remove the sauce from the heat and stir in the cheddar and Parmesan cheese until melted and smooth.',\n",
       "   '8. Add the cooked macaroni to the cheese sauce and stir until well combined.',\n",
       "   '9. Transfer the macaroni and cheese to a baking dish and top with breadcrumbs.',\n",
       "   '10. Bake in the preheated oven for 25-30 minutes, or until the top is golden brown and the casserole is heated through.',\n",
       "   '11. Serve hot and enjoy!']}]"
      ]
     },
     "execution_count": 11,
     "metadata": {},
     "output_type": "execute_result"
    }
   ],
   "source": [
    "y_pred"
   ]
  },
  {
   "cell_type": "code",
   "execution_count": 12,
   "metadata": {},
   "outputs": [
    {
     "name": "stdout",
     "output_type": "stream",
     "text": [
      "Example 1:\n",
      "Title: Roasted Chicken with Fall Vegetables\n",
      "Ingredients:\n",
      "- 1 whole chicken (3-4 lbs)\n",
      "- 2 tbsp olive oil\n",
      "- 1 tsp salt\n",
      "- 1 tsp pepper\n",
      "- 1 tsp dried thyme\n",
      "- 1 tsp dried rosemary\n",
      "- 1 large onion, peeled and chopped\n",
      "- 2 carrots, peeled and chopped\n",
      "- 2 celery stalks, chopped\n",
      "- 2 large sweet potatoes, peeled and chopped\n",
      "- 2 large parsnips, peeled and chopped\n",
      "- 1 large apple, cored and chopped\n",
      "- 2 tbsp butter\n",
      "Instructions:\n",
      "1. Preheat the oven to 425°F.\n",
      "2. Rinse the chicken and pat it dry with paper towels.\n",
      "3. In a small bowl, mix together the olive oil, salt, pepper, thyme, and rosemary.\n",
      "4. Rub the mixture all over the chicken, making sure to get some under the skin as well.\n",
      "5. Place the chicken in a roasting pan and put it in the oven.\n",
      "6. Roast the chicken for 45-50 minutes, or until it reaches an internal temperature of 165°F.\n",
      "7. While the chicken is roasting, toss the chopped vegetables with the butter and spread them out in a single layer on a baking sheet.\n",
      "8. Roast the vegetables in the oven for 20-25 minutes, or until they are tender and lightly browned.\n",
      "9. Remove the chicken from the oven and let it rest for 10-15 minutes before carving.\n",
      "10. Serve the chicken with the roasted vegetables and your choice of sides.\n",
      "Example 2:\n",
      "Title: Roasted Baby Potatoes with Garlic and Rosemary\n",
      "Ingredients:\n",
      "- 2 pounds small baby potatoes, halved or quartered\n",
      "- 1/4 cup olive oil\n",
      "- 2 cloves garlic, minced\n",
      "- 2 sprigs fresh rosemary, chopped\n",
      "- 1 teaspoon salt\n",
      "- 1/2 teaspoon black pepper\n",
      "Instructions:\n",
      "1. Preheat the oven to 425°F (220°C).\n",
      "2. Place the potatoes in a large bowl. Drizzle with the olive oil and sprinkle with the garlic, rosemary, salt, and pepper. Toss to coat the potatoes evenly.\n",
      "3. Spread the potatoes out in a single layer on a baking sheet. Roast in the preheated oven for 20-25 minutes, or until the potatoes are golden brown and crispy on the outside, and tender on the inside.\n",
      "4. Remove the potatoes from the oven and serve hot.\n",
      "Example 3:\n",
      "Title: Baked Macaroni and Cheese\n",
      "Ingredients:\n",
      "- 1 pound macaroni\n",
      "- 2 tablespoons butter\n",
      "- 1/2 cup all-purpose flour\n",
      "- 2 cups milk\n",
      "- 1 cup grated cheddar cheese\n",
      "- 1/2 cup grated Parmesan cheese\n",
      "- 1/4 cup breadcrumbs\n",
      "- 1 teaspoon salt\n",
      "- 1/4 teaspoon black pepper\n",
      "Instructions:\n",
      "1. Preheat the oven to 350°F.\n",
      "2. Cook the macaroni according to package instructions until al dente. Drain and set aside.\n",
      "3. In a large saucepan, melt the butter over medium heat.\n",
      "4. Add the flour and whisk together to make a roux, cooking for 1 minute.\n",
      "5. Slowly pour in the milk, whisking continuously to avoid lumps.\n",
      "6. Bring the mixture to a simmer and cook until it thickens, stirring occasionally.\n",
      "7. Remove the sauce from the heat and stir in the cheddar and Parmesan cheese until melted and smooth.\n",
      "8. Add the cooked macaroni to the cheese sauce and stir until well combined.\n",
      "9. Transfer the macaroni and cheese to a baking dish and top with breadcrumbs.\n",
      "10. Bake in the preheated oven for 25-30 minutes, or until the top is golden brown and the casserole is heated through.\n",
      "11. Serve hot and enjoy!\n"
     ]
    }
   ],
   "source": [
    "for i in range(len(y_pred)):\n",
    "    print(f\"Example {i+1}:\")\n",
    "    print(f\"Title: {y_pred[i]['title']}\")\n",
    "    print(\"Ingredients:\")\n",
    "    for ingredient in y_pred[i]['ingredients']:\n",
    "        print(f\"- {ingredient}\")\n",
    "    print(\"Instructions:\")\n",
    "    for step in y_pred[i]['steps']:\n",
    "        print(f\"{step}\")"
   ]
  },
  {
   "cell_type": "code",
   "execution_count": 13,
   "metadata": {},
   "outputs": [
    {
     "name": "stdout",
     "output_type": "stream",
     "text": [
      "Requirement already satisfied: nltk in ./.conda/lib/python3.11/site-packages (3.9.1)\n",
      "Requirement already satisfied: rouge-score in ./.conda/lib/python3.11/site-packages (0.1.2)\n",
      "Requirement already satisfied: sentence-transformers in ./.conda/lib/python3.11/site-packages (4.0.2)\n",
      "Requirement already satisfied: click in ./.conda/lib/python3.11/site-packages (from nltk) (8.1.8)\n",
      "Requirement already satisfied: joblib in ./.conda/lib/python3.11/site-packages (from nltk) (1.4.2)\n",
      "Requirement already satisfied: regex>=2021.8.3 in ./.conda/lib/python3.11/site-packages (from nltk) (2024.11.6)\n",
      "Requirement already satisfied: tqdm in ./.conda/lib/python3.11/site-packages (from nltk) (4.67.1)\n",
      "Requirement already satisfied: absl-py in ./.conda/lib/python3.11/site-packages (from rouge-score) (2.2.2)\n",
      "Requirement already satisfied: numpy in ./.conda/lib/python3.11/site-packages (from rouge-score) (2.2.4)\n",
      "Requirement already satisfied: six>=1.14.0 in ./.conda/lib/python3.11/site-packages (from rouge-score) (1.17.0)\n",
      "Requirement already satisfied: transformers<5.0.0,>=4.41.0 in ./.conda/lib/python3.11/site-packages (from sentence-transformers) (4.51.0)\n",
      "Requirement already satisfied: torch>=1.11.0 in ./.conda/lib/python3.11/site-packages (from sentence-transformers) (2.6.0)\n",
      "Requirement already satisfied: scikit-learn in ./.conda/lib/python3.11/site-packages (from sentence-transformers) (1.6.1)\n",
      "Requirement already satisfied: scipy in ./.conda/lib/python3.11/site-packages (from sentence-transformers) (1.15.2)\n",
      "Requirement already satisfied: huggingface-hub>=0.20.0 in ./.conda/lib/python3.11/site-packages (from sentence-transformers) (0.30.1)\n",
      "Requirement already satisfied: Pillow in ./.conda/lib/python3.11/site-packages (from sentence-transformers) (11.1.0)\n",
      "Requirement already satisfied: typing_extensions>=4.5.0 in ./.conda/lib/python3.11/site-packages (from sentence-transformers) (4.13.1)\n",
      "Requirement already satisfied: filelock in ./.conda/lib/python3.11/site-packages (from huggingface-hub>=0.20.0->sentence-transformers) (3.18.0)\n",
      "Requirement already satisfied: fsspec>=2023.5.0 in ./.conda/lib/python3.11/site-packages (from huggingface-hub>=0.20.0->sentence-transformers) (2024.12.0)\n",
      "Requirement already satisfied: packaging>=20.9 in ./.conda/lib/python3.11/site-packages (from huggingface-hub>=0.20.0->sentence-transformers) (24.2)\n",
      "Requirement already satisfied: pyyaml>=5.1 in ./.conda/lib/python3.11/site-packages (from huggingface-hub>=0.20.0->sentence-transformers) (6.0.2)\n",
      "Requirement already satisfied: requests in ./.conda/lib/python3.11/site-packages (from huggingface-hub>=0.20.0->sentence-transformers) (2.32.3)\n",
      "Requirement already satisfied: networkx in ./.conda/lib/python3.11/site-packages (from torch>=1.11.0->sentence-transformers) (3.4.2)\n",
      "Requirement already satisfied: jinja2 in ./.conda/lib/python3.11/site-packages (from torch>=1.11.0->sentence-transformers) (3.1.6)\n",
      "Requirement already satisfied: sympy==1.13.1 in ./.conda/lib/python3.11/site-packages (from torch>=1.11.0->sentence-transformers) (1.13.1)\n",
      "Requirement already satisfied: mpmath<1.4,>=1.1.0 in ./.conda/lib/python3.11/site-packages (from sympy==1.13.1->torch>=1.11.0->sentence-transformers) (1.3.0)\n",
      "Requirement already satisfied: tokenizers<0.22,>=0.21 in ./.conda/lib/python3.11/site-packages (from transformers<5.0.0,>=4.41.0->sentence-transformers) (0.21.1)\n",
      "Requirement already satisfied: safetensors>=0.4.3 in ./.conda/lib/python3.11/site-packages (from transformers<5.0.0,>=4.41.0->sentence-transformers) (0.5.3)\n",
      "Requirement already satisfied: threadpoolctl>=3.1.0 in ./.conda/lib/python3.11/site-packages (from scikit-learn->sentence-transformers) (3.6.0)\n",
      "Requirement already satisfied: MarkupSafe>=2.0 in ./.conda/lib/python3.11/site-packages (from jinja2->torch>=1.11.0->sentence-transformers) (3.0.2)\n",
      "Requirement already satisfied: charset-normalizer<4,>=2 in ./.conda/lib/python3.11/site-packages (from requests->huggingface-hub>=0.20.0->sentence-transformers) (3.4.1)\n",
      "Requirement already satisfied: idna<4,>=2.5 in ./.conda/lib/python3.11/site-packages (from requests->huggingface-hub>=0.20.0->sentence-transformers) (3.10)\n",
      "Requirement already satisfied: urllib3<3,>=1.21.1 in ./.conda/lib/python3.11/site-packages (from requests->huggingface-hub>=0.20.0->sentence-transformers) (2.3.0)\n",
      "Requirement already satisfied: certifi>=2017.4.17 in ./.conda/lib/python3.11/site-packages (from requests->huggingface-hub>=0.20.0->sentence-transformers) (2025.1.31)\n",
      "Note: you may need to restart the kernel to use updated packages.\n"
     ]
    }
   ],
   "source": [
    "%pip install nltk rouge-score sentence-transformers"
   ]
  },
  {
   "cell_type": "code",
   "execution_count": 16,
   "metadata": {},
   "outputs": [
    {
     "name": "stderr",
     "output_type": "stream",
     "text": [
      "[nltk_data] Downloading package punkt to\n",
      "[nltk_data]     /Users/juyounglee/nltk_data...\n",
      "[nltk_data]   Package punkt is already up-to-date!\n",
      "[nltk_data] Downloading package punkt_tab to\n",
      "[nltk_data]     /Users/juyounglee/nltk_data...\n",
      "[nltk_data]   Unzipping tokenizers/punkt_tab.zip.\n"
     ]
    },
    {
     "data": {
      "text/plain": [
       "True"
      ]
     },
     "execution_count": 16,
     "metadata": {},
     "output_type": "execute_result"
    }
   ],
   "source": [
    "import nltk\n",
    "nltk.download('punkt')\n",
    "nltk.download('punkt_tab')"
   ]
  },
  {
   "cell_type": "code",
   "execution_count": 17,
   "metadata": {},
   "outputs": [
    {
     "data": {
      "text/plain": [
       "{'cosine_similarity': {'steps': np.float32(0.64165723),\n",
       "  'ingredients': np.float32(0.6825431)},\n",
       " 'bleu_score': {'steps': 8.041251819480524e-11,\n",
       "  'ingredients': 0.06097986499362348},\n",
       " 'rouge_scores': {'steps': {'rouge1': 0.05184968834432905,\n",
       "   'rougeL': 0.0346136771604631},\n",
       "  'ingredients': {'rouge1': 0.46401376401376393,\n",
       "   'rougeL': 0.4383727383727384}}}"
      ]
     },
     "execution_count": 17,
     "metadata": {},
     "output_type": "execute_result"
    }
   ],
   "source": [
    "from evals import compute_evals\n",
    "result = []\n",
    "\n",
    "for  in test_dataset:\n",
    "    \n",
    "pred_recipe = y_pred[0]\n",
    "golden_recipe = test_dataset[0]\n",
    "\n",
    "result = compute_evals(pred_recipe, golden_recipe)\n",
    "result"
   ]
  }
 ],
 "metadata": {
  "kernelspec": {
   "display_name": "Python 3",
   "language": "python",
   "name": "python3"
  },
  "language_info": {
   "codemirror_mode": {
    "name": "ipython",
    "version": 3
   },
   "file_extension": ".py",
   "mimetype": "text/x-python",
   "name": "python",
   "nbconvert_exporter": "python",
   "pygments_lexer": "ipython3",
   "version": "3.11.11"
  }
 },
 "nbformat": 4,
 "nbformat_minor": 2
}
